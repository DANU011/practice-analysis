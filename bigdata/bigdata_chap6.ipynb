{
  "nbformat": 4,
  "nbformat_minor": 0,
  "metadata": {
    "colab": {
      "provenance": [],
      "authorship_tag": "ABX9TyPMeteDCJtHMw06F0ZRITO8",
      "include_colab_link": true
    },
    "kernelspec": {
      "name": "python3",
      "display_name": "Python 3"
    },
    "language_info": {
      "name": "python"
    }
  },
  "cells": [
    {
      "cell_type": "markdown",
      "metadata": {
        "id": "view-in-github",
        "colab_type": "text"
      },
      "source": [
        "<a href=\"https://colab.research.google.com/github/DANU011/practice-analysis/blob/main/bigdata/bigdata_chap6.ipynb\" target=\"_parent\"><img src=\"https://colab.research.google.com/assets/colab-badge.svg\" alt=\"Open In Colab\"/></a>"
      ]
    },
    {
      "cell_type": "markdown",
      "source": [
        "## 단순 선형 회귀(Simple Linear Regression Model)\n",
        "### 1. 정규방정식\n",
        "#### (1) scikit-learn의 LinearRegression\n",
        "매개변수:  \n",
        " - fit_intercept (기본값=True):\n",
        "True인 경우 선형 회귀 모델에 절편 항이 포함됩니다. False인 경우 모델은 절편 없이 적합됩니다.  \n",
        " - normalize (기본값=False):\n",
        "True인 경우 예측 변수가 회귀하기 전에 평균을 빼고 L2-노름으로 나눠집니다. 이는 fit_intercept가 True인 경우에만 관련이 있습니다.  \n",
        " - copy_X (기본값=True):\n",
        "True인 경우 입력 데이터(예측 변수)는 모델을 적합하기 전에 복사됩니다. False인 경우 모델이 입력 데이터를 직접 수정할 수 있습니다.  \n",
        " - n_jobs (기본값=None):\n",
        "계산에 사용할 작업 수입니다. -1로 설정하면 모든 사용 가능한 CPU가 사용됩니다.  \n",
        "\n",
        "\n",
        "메서드:  \n",
        "fit(X, y, sample_weight=None):\n",
        "선형 모델을 적합시킵니다.  \n",
        "  매개변수:\n",
        "X: 배열 또는 희소 행렬, 형태 (n_samples, n_features): 훈련 데이터.\n",
        "y: 배열 형태 (n_samples,): 대상 값.\n",
        "sample_weight: 배열 형태 (n_samples,), 선택 사항: 각 샘플에 대한 개별 가중치.\n",
        "predict(X):\n",
        "\n",
        "선형 모델을 사용하여 예측합니다.\n",
        "매개변수:\n",
        "X: 배열 또는 희소 행렬, 형태 (n_samples, n_features): 샘플.\n",
        "score(X, y, sample_weight=None):\n",
        "\n",
        "예측의 결정 계수 R^2을 반환합니다.\n",
        "매개변수:\n",
        "X: 배열 또는 희소 행렬, 형태 (n_samples, n_features): 테스트 샘플.\n",
        "y: 배열 형태 (n_samples,): 실제 값.\n",
        "sample_weight: 배열 형태 (n_samples,), 선택 사항: 각 샘플에 대한 개별 가중치.\n",
        "get_params(deep=True):\n",
        "\n",
        "이 추정기의 매개변수를 가져옵니다.\n",
        "**set_params(params):\n",
        "\n",
        "이 추정기의 매개변수를 설정합니다.\n",
        "속성:\n",
        "coef_:\n",
        "\n",
        "선형 회귀 문제에 대한 추정된 계수입니다. fit_intercept가 True인 경우 형태가 (n_features,)이고, 그렇지 않은 경우 (n_features,)입니다.\n",
        "intercept_:\n",
        "\n",
        "선형 모델의 독립적인 항입니다. fit_intercept가 False인 경우 0.0으로 설정됩니다.\n"
      ],
      "metadata": {
        "id": "sYTauZwuFrzz"
      }
    },
    {
      "cell_type": "code",
      "source": [],
      "metadata": {
        "id": "akSICN25GIqN"
      },
      "execution_count": null,
      "outputs": []
    }
  ]
}